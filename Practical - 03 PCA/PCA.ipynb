{
 "cells": [
  {
   "cell_type": "code",
   "execution_count": 1,
   "id": "c7fca91b",
   "metadata": {},
   "outputs": [],
   "source": [
    "import numpy as np\n",
    "import pandas as pd\n",
    "import matplotlib.pyplot as plt"
   ]
  },
  {
   "cell_type": "code",
   "execution_count": 7,
   "id": "f4f3c69b",
   "metadata": {},
   "outputs": [
    {
     "data": {
      "text/html": [
       "<div>\n",
       "<style scoped>\n",
       "    .dataframe tbody tr th:only-of-type {\n",
       "        vertical-align: middle;\n",
       "    }\n",
       "\n",
       "    .dataframe tbody tr th {\n",
       "        vertical-align: top;\n",
       "    }\n",
       "\n",
       "    .dataframe thead th {\n",
       "        text-align: right;\n",
       "    }\n",
       "</style>\n",
       "<table border=\"1\" class=\"dataframe\">\n",
       "  <thead>\n",
       "    <tr style=\"text-align: right;\">\n",
       "      <th></th>\n",
       "      <th>X</th>\n",
       "      <th>Y</th>\n",
       "      <th>Z</th>\n",
       "    </tr>\n",
       "  </thead>\n",
       "  <tbody>\n",
       "    <tr>\n",
       "      <th>0</th>\n",
       "      <td>2.5</td>\n",
       "      <td>2.4</td>\n",
       "      <td>1.2</td>\n",
       "    </tr>\n",
       "    <tr>\n",
       "      <th>1</th>\n",
       "      <td>0.5</td>\n",
       "      <td>0.7</td>\n",
       "      <td>0.3</td>\n",
       "    </tr>\n",
       "    <tr>\n",
       "      <th>2</th>\n",
       "      <td>2.2</td>\n",
       "      <td>2.9</td>\n",
       "      <td>1.4</td>\n",
       "    </tr>\n",
       "    <tr>\n",
       "      <th>3</th>\n",
       "      <td>1.9</td>\n",
       "      <td>2.2</td>\n",
       "      <td>1.1</td>\n",
       "    </tr>\n",
       "    <tr>\n",
       "      <th>4</th>\n",
       "      <td>3.1</td>\n",
       "      <td>3.0</td>\n",
       "      <td>1.7</td>\n",
       "    </tr>\n",
       "    <tr>\n",
       "      <th>5</th>\n",
       "      <td>2.8</td>\n",
       "      <td>2.7</td>\n",
       "      <td>1.5</td>\n",
       "    </tr>\n",
       "    <tr>\n",
       "      <th>6</th>\n",
       "      <td>2.0</td>\n",
       "      <td>3.4</td>\n",
       "      <td>0.9</td>\n",
       "    </tr>\n",
       "    <tr>\n",
       "      <th>7</th>\n",
       "      <td>1.0</td>\n",
       "      <td>2.9</td>\n",
       "      <td>0.4</td>\n",
       "    </tr>\n",
       "    <tr>\n",
       "      <th>8</th>\n",
       "      <td>1.5</td>\n",
       "      <td>1.6</td>\n",
       "      <td>0.8</td>\n",
       "    </tr>\n",
       "    <tr>\n",
       "      <th>9</th>\n",
       "      <td>1.2</td>\n",
       "      <td>2.6</td>\n",
       "      <td>1.7</td>\n",
       "    </tr>\n",
       "  </tbody>\n",
       "</table>\n",
       "</div>"
      ],
      "text/plain": [
       "     X    Y    Z\n",
       "0  2.5  2.4  1.2\n",
       "1  0.5  0.7  0.3\n",
       "2  2.2  2.9  1.4\n",
       "3  1.9  2.2  1.1\n",
       "4  3.1  3.0  1.7\n",
       "5  2.8  2.7  1.5\n",
       "6  2.0  3.4  0.9\n",
       "7  1.0  2.9  0.4\n",
       "8  1.5  1.6  0.8\n",
       "9  1.2  2.6  1.7"
      ]
     },
     "execution_count": 7,
     "metadata": {},
     "output_type": "execute_result"
    }
   ],
   "source": [
    "data = np.array ([\n",
    "    [2.5, 2.4, 1.2],\n",
    "    [0.5, 0.7, 0.3],\n",
    "    [2.2, 2.9, 1.4],\n",
    "    [1.9, 2.2, 1.1],\n",
    "    [3.1, 3.0, 1.7],\n",
    "    [2.8, 2.7, 1.5],\n",
    "    [2.0, 3.4, 0.9],\n",
    "    [1.0, 2.9, 0.4],\n",
    "    [1.5, 1.6, 0.8],\n",
    "    [1.2, 2.6, 1.7]\n",
    "    \n",
    "])\n",
    "df = pd.DataFrame(data, columns=['X', 'Y', 'Z'])\n",
    "df"
   ]
  },
  {
   "cell_type": "code",
   "execution_count": 9,
   "id": "884b80c4",
   "metadata": {},
   "outputs": [
    {
     "data": {
      "text/html": [
       "<div>\n",
       "<style scoped>\n",
       "    .dataframe tbody tr th:only-of-type {\n",
       "        vertical-align: middle;\n",
       "    }\n",
       "\n",
       "    .dataframe tbody tr th {\n",
       "        vertical-align: top;\n",
       "    }\n",
       "\n",
       "    .dataframe thead th {\n",
       "        text-align: right;\n",
       "    }\n",
       "</style>\n",
       "<table border=\"1\" class=\"dataframe\">\n",
       "  <thead>\n",
       "    <tr style=\"text-align: right;\">\n",
       "      <th></th>\n",
       "      <th>X</th>\n",
       "      <th>Y</th>\n",
       "      <th>Z</th>\n",
       "    </tr>\n",
       "  </thead>\n",
       "  <tbody>\n",
       "    <tr>\n",
       "      <th>0</th>\n",
       "      <td>0.763925</td>\n",
       "      <td>-0.050965</td>\n",
       "      <td>0.200446</td>\n",
       "    </tr>\n",
       "    <tr>\n",
       "      <th>1</th>\n",
       "      <td>-1.661233</td>\n",
       "      <td>-2.216965</td>\n",
       "      <td>-1.603567</td>\n",
       "    </tr>\n",
       "    <tr>\n",
       "      <th>2</th>\n",
       "      <td>0.400151</td>\n",
       "      <td>0.586094</td>\n",
       "      <td>0.601338</td>\n",
       "    </tr>\n",
       "    <tr>\n",
       "      <th>3</th>\n",
       "      <td>0.036377</td>\n",
       "      <td>-0.305788</td>\n",
       "      <td>0.000000</td>\n",
       "    </tr>\n",
       "    <tr>\n",
       "      <th>4</th>\n",
       "      <td>1.491472</td>\n",
       "      <td>0.713506</td>\n",
       "      <td>1.202676</td>\n",
       "    </tr>\n",
       "    <tr>\n",
       "      <th>5</th>\n",
       "      <td>1.127699</td>\n",
       "      <td>0.331271</td>\n",
       "      <td>0.801784</td>\n",
       "    </tr>\n",
       "    <tr>\n",
       "      <th>6</th>\n",
       "      <td>0.157635</td>\n",
       "      <td>1.223153</td>\n",
       "      <td>-0.400892</td>\n",
       "    </tr>\n",
       "    <tr>\n",
       "      <th>7</th>\n",
       "      <td>-1.054944</td>\n",
       "      <td>0.586094</td>\n",
       "      <td>-1.403122</td>\n",
       "    </tr>\n",
       "    <tr>\n",
       "      <th>8</th>\n",
       "      <td>-0.448654</td>\n",
       "      <td>-1.070259</td>\n",
       "      <td>-0.601338</td>\n",
       "    </tr>\n",
       "    <tr>\n",
       "      <th>9</th>\n",
       "      <td>-0.812428</td>\n",
       "      <td>0.203859</td>\n",
       "      <td>1.202676</td>\n",
       "    </tr>\n",
       "  </tbody>\n",
       "</table>\n",
       "</div>"
      ],
      "text/plain": [
       "          X         Y         Z\n",
       "0  0.763925 -0.050965  0.200446\n",
       "1 -1.661233 -2.216965 -1.603567\n",
       "2  0.400151  0.586094  0.601338\n",
       "3  0.036377 -0.305788  0.000000\n",
       "4  1.491472  0.713506  1.202676\n",
       "5  1.127699  0.331271  0.801784\n",
       "6  0.157635  1.223153 -0.400892\n",
       "7 -1.054944  0.586094 -1.403122\n",
       "8 -0.448654 -1.070259 -0.601338\n",
       "9 -0.812428  0.203859  1.202676"
      ]
     },
     "execution_count": 9,
     "metadata": {},
     "output_type": "execute_result"
    }
   ],
   "source": [
    "standardized_data = (df - df.mean()) / df.std()\n",
    "standardized_data"
   ]
  },
  {
   "cell_type": "code",
   "execution_count": 10,
   "id": "a29c84ac",
   "metadata": {},
   "outputs": [
    {
     "data": {
      "text/plain": [
       "array([[1.        , 0.57713167, 0.71836711],\n",
       "       [0.57713167, 1.        , 0.51078353],\n",
       "       [0.71836711, 0.51078353, 1.        ]])"
      ]
     },
     "execution_count": 10,
     "metadata": {},
     "output_type": "execute_result"
    }
   ],
   "source": [
    "cov_matrix = np.cov(standardized_data.T)\n",
    "cov_matrix"
   ]
  },
  {
   "cell_type": "code",
   "execution_count": null,
   "id": "84e325bf",
   "metadata": {},
   "outputs": [],
   "source": [
    "eig_vals, eig_vecs = np.linalg.eig(cov_matrix)\n"
   ]
  },
  {
   "cell_type": "code",
   "execution_count": 6,
   "id": "67dacd09",
   "metadata": {},
   "outputs": [],
   "source": [
    "sorted_indices = np.argsort(eig_vals) [::-1]\n",
    "eig_vals = eig_vals[sorted_indices]\n",
    "eig_vecs = eig_vecs[:, sorted_indices]"
   ]
  },
  {
   "cell_type": "code",
   "execution_count": 11,
   "id": "0ce147ab",
   "metadata": {},
   "outputs": [],
   "source": [
    "eig_vecs_subset = eig_vecs[:, :2]"
   ]
  },
  {
   "cell_type": "code",
   "execution_count": 12,
   "id": "855371cf",
   "metadata": {},
   "outputs": [],
   "source": [
    "reduced_data = standardized_data.to_numpy().dot(eig_vecs_subset)\n",
    "reduced_df = pd.DataFrame(reduced_data, columns= ['PC1', 'PC2'])"
   ]
  },
  {
   "cell_type": "code",
   "execution_count": 13,
   "id": "971a740d",
   "metadata": {},
   "outputs": [
    {
     "name": "stdout",
     "output_type": "stream",
     "text": [
      "\n",
      "Reduced Data (after PCA): \n",
      "         PC1       PC2\n",
      "0  0.552879  0.338927\n",
      "1 -3.138497  0.620461\n",
      "2  0.910231 -0.086645\n",
      "3 -0.142272  0.263386\n",
      "4  1.992547  0.386581\n",
      "5  1.331548  0.412179\n",
      "6  0.517315 -1.172772\n",
      "7 -1.147603 -1.451802\n",
      "8 -1.199744  0.476208\n",
      "9  0.323596  0.213476\n"
     ]
    }
   ],
   "source": [
    "print(\"\\nReduced Data (after PCA): \\n\", reduced_df)"
   ]
  },
  {
   "cell_type": "code",
   "execution_count": 14,
   "id": "91100e8e",
   "metadata": {},
   "outputs": [
    {
     "data": {
      "image/png": "[encoded data removed]",
      "text/plain": [
       "<Figure size 800x600 with 1 Axes>"
      ]
     },
     "metadata": {},
     "output_type": "display_data"
    }
   ],
   "source": [
    "plt.figure(figsize= (8, 6))\n",
    "plt.scatter(reduced_df['PC1'], reduced_df['PC2'], color = 'blue', edgecolors='k')\n",
    "plt.title('2D PCA Projection')\n",
    "plt.xlabel('Principal Component 1')\n",
    "plt.xlabel('Principal Component 2')\n",
    "plt.grid(True)\n",
    "plt.show()\n"
   ]
  },
  {
   "cell_type": "code",
   "execution_count": null,
   "id": "23e8fbd8",
   "metadata": {},
   "outputs": [],
   "source": []
  }
 ],
 "metadata": {
  "kernelspec": {
   "display_name": "Python 3",
   "language": "python",
   "name": "python3"
  },
  "language_info": {
   "codemirror_mode": {
    "name": "ipython",
    "version": 3
   },
   "file_extension": ".py",
   "mimetype": "text/x-python",
   "name": "python",
   "nbconvert_exporter": "python",
   "pygments_lexer": "ipython3",
   "version": "3.11.0"
  }
 },
 "nbformat": 4,
 "nbformat_minor": 5
}
